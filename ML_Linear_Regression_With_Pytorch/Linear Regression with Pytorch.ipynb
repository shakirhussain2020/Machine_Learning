{
 "cells": [
  {
   "cell_type": "code",
   "execution_count": 3,
   "metadata": {},
   "outputs": [],
   "source": [
    "#importing necessary libraries\n",
    "import pandas as pd\n",
    "import torch\n",
    "import torch.nn as nn\n",
    "import numpy as np\n",
    "import matplotlib.pyplot as plt\n",
    "from sklearn.model_selection import train_test_split"
   ]
  },
  {
   "cell_type": "code",
   "execution_count": 4,
   "metadata": {},
   "outputs": [],
   "source": [
    "#Loading the dataset\n",
    "data = pd.read_excel(\"exp_vs_sal.xlsx\")"
   ]
  },
  {
   "cell_type": "code",
   "execution_count": 6,
   "metadata": {},
   "outputs": [
    {
     "data": {
      "text/html": [
       "<div>\n",
       "<style scoped>\n",
       "    .dataframe tbody tr th:only-of-type {\n",
       "        vertical-align: middle;\n",
       "    }\n",
       "\n",
       "    .dataframe tbody tr th {\n",
       "        vertical-align: top;\n",
       "    }\n",
       "\n",
       "    .dataframe thead th {\n",
       "        text-align: right;\n",
       "    }\n",
       "</style>\n",
       "<table border=\"1\" class=\"dataframe\">\n",
       "  <thead>\n",
       "    <tr style=\"text-align: right;\">\n",
       "      <th></th>\n",
       "      <th>Experience</th>\n",
       "      <th>Salary</th>\n",
       "    </tr>\n",
       "  </thead>\n",
       "  <tbody>\n",
       "    <tr>\n",
       "      <th>count</th>\n",
       "      <td>30.000000</td>\n",
       "      <td>30.000000</td>\n",
       "    </tr>\n",
       "    <tr>\n",
       "      <th>mean</th>\n",
       "      <td>5.916667</td>\n",
       "      <td>82372.233333</td>\n",
       "    </tr>\n",
       "    <tr>\n",
       "      <th>std</th>\n",
       "      <td>2.849208</td>\n",
       "      <td>27312.152225</td>\n",
       "    </tr>\n",
       "    <tr>\n",
       "      <th>min</th>\n",
       "      <td>1.600000</td>\n",
       "      <td>45131.000000</td>\n",
       "    </tr>\n",
       "    <tr>\n",
       "      <th>25%</th>\n",
       "      <td>3.750000</td>\n",
       "      <td>62252.750000</td>\n",
       "    </tr>\n",
       "    <tr>\n",
       "      <th>50%</th>\n",
       "      <td>5.300000</td>\n",
       "      <td>70960.500000</td>\n",
       "    </tr>\n",
       "    <tr>\n",
       "      <th>75%</th>\n",
       "      <td>8.400000</td>\n",
       "      <td>107229.250000</td>\n",
       "    </tr>\n",
       "    <tr>\n",
       "      <th>max</th>\n",
       "      <td>11.100000</td>\n",
       "      <td>130693.000000</td>\n",
       "    </tr>\n",
       "  </tbody>\n",
       "</table>\n",
       "</div>"
      ],
      "text/plain": [
       "       Experience         Salary\n",
       "count   30.000000      30.000000\n",
       "mean     5.916667   82372.233333\n",
       "std      2.849208   27312.152225\n",
       "min      1.600000   45131.000000\n",
       "25%      3.750000   62252.750000\n",
       "50%      5.300000   70960.500000\n",
       "75%      8.400000  107229.250000\n",
       "max     11.100000  130693.000000"
      ]
     },
     "execution_count": 6,
     "metadata": {},
     "output_type": "execute_result"
    }
   ],
   "source": [
    "data.describe()"
   ]
  },
  {
   "cell_type": "code",
   "execution_count": 8,
   "metadata": {},
   "outputs": [
    {
     "data": {
      "text/plain": [
       "<matplotlib.axes._subplots.AxesSubplot at 0x1f3a71449e8>"
      ]
     },
     "execution_count": 8,
     "metadata": {},
     "output_type": "execute_result"
    },
    {
     "data": {
      "image/png": "[encoded data removed]",
      "text/plain": [
       "<Figure size 432x288 with 1 Axes>"
      ]
     },
     "metadata": {},
     "output_type": "display_data"
    }
   ],
   "source": [
    "#plotting the data\n",
    "data.plot(kind='scatter',x='Experience',y='Salary')"
   ]
  },
  {
   "cell_type": "code",
   "execution_count": 9,
   "metadata": {},
   "outputs": [],
   "source": [
    "#Train and Test Split\n",
    "train, test = train_test_split(data, test_size=0.2)"
   ]
  },
  {
   "cell_type": "code",
   "execution_count": 44,
   "metadata": {},
   "outputs": [],
   "source": [
    "#Converting training data into tensors for Pytorch\n",
    "X_train = torch.Tensor([[x] for x in list(train.Experience)])\n",
    "y_train = torch.torch.FloatTensor([[x] for x in list(train.Salary)])\n",
    "\n",
    "#Converting test data into tensor for Pytorch\n",
    "X_test = torch.Tensor([[x] for x in list(test.Experience)])\n",
    "y_test = list(test.Salary)"
   ]
  },
  {
   "cell_type": "code",
   "execution_count": 45,
   "metadata": {},
   "outputs": [
    {
     "data": {
      "text/plain": [
       "tensor([[ 1.6000],\n",
       "        [ 9.5000],\n",
       "        [ 2.9000],\n",
       "        [ 5.1000],\n",
       "        [ 5.5000],\n",
       "        [ 8.6000],\n",
       "        [ 4.5000],\n",
       "        [ 4.7000],\n",
       "        [ 3.7000],\n",
       "        [10.2000],\n",
       "        [10.2000],\n",
       "        [ 8.9000],\n",
       "        [ 7.4000],\n",
       "        [ 4.6000],\n",
       "        [ 3.5000],\n",
       "        [ 7.8000],\n",
       "        [ 3.6000],\n",
       "        [ 6.5000],\n",
       "        [ 3.9000],\n",
       "        [ 4.3000],\n",
       "        [10.9000],\n",
       "        [ 4.5000],\n",
       "        [ 5.8000],\n",
       "        [ 2.0000]])"
      ]
     },
     "execution_count": 45,
     "metadata": {},
     "output_type": "execute_result"
    }
   ],
   "source": [
    "X_train"
   ]
  },
  {
   "cell_type": "code",
   "execution_count": 46,
   "metadata": {},
   "outputs": [],
   "source": [
    "class LinearRegression(nn.Module):\n",
    "    def __init__(self, in_size, out_size):\n",
    "        super().__init__()\n",
    "        self.lin = nn.Linear(in_features=in_size, out_features=out_size)\n",
    "    def forward(self,X):\n",
    "        pred = self.lin(X)\n",
    "        return(pred)"
   ]
  },
  {
   "cell_type": "code",
   "execution_count": 47,
   "metadata": {},
   "outputs": [],
   "source": [
    "# Setting the seed or random_state for reproducibility\n",
    "torch.manual_seed(1)\n",
    "\n",
    "#Initializing the Linear model\n",
    "model = LinearRegression(1 , 1)"
   ]
  },
  {
   "cell_type": "code",
   "execution_count": 48,
   "metadata": {},
   "outputs": [],
   "source": [
    "#Unpacking the parameters\n",
    "[w,b] = model.parameters()"
   ]
  },
  {
   "cell_type": "code",
   "execution_count": 49,
   "metadata": {},
   "outputs": [],
   "source": [
    "#A method for getting the parameter values from the tensor object\n",
    "def get_parameters():\n",
    "    return(w[0][0].item(), b[0].item())"
   ]
  },
  {
   "cell_type": "code",
   "execution_count": 50,
   "metadata": {},
   "outputs": [],
   "source": [
    "#A method for plotting the regressor\n",
    "def plot_model(name):\n",
    "    plt.title(name)\n",
    "    plt.xlabel('Experience')\n",
    "    plt.ylabel('Salary')\n",
    "    w1, b1 = get_parameters()\n",
    "    X1 = np.array([-15, 15])\n",
    "    Y1 = w1 * X1 + b1\n",
    "    plt.plot(X1, Y1, 'g')\n",
    "    plt.scatter(X_train,y_train)\n",
    "    plt.show()"
   ]
  },
  {
   "cell_type": "code",
   "execution_count": 51,
   "metadata": {},
   "outputs": [
    {
     "name": "stdout",
     "output_type": "stream",
     "text": [
      "[Parameter containing:\n",
      "tensor([[0.5153]], requires_grad=True), Parameter containing:\n",
      "tensor([-0.4414], requires_grad=True)]\n"
     ]
    }
   ],
   "source": [
    "#Printing the initial model parameters\n",
    "print(list(model.parameters()))"
   ]
  },
  {
   "cell_type": "code",
   "execution_count": 52,
   "metadata": {},
   "outputs": [
    {
     "data": {
      "image/png": "[encoded data removed]",
      "text/plain": [
       "<Figure size 432x288 with 1 Axes>"
      ]
     },
     "metadata": {},
     "output_type": "display_data"
    }
   ],
   "source": [
    "#Plotting the regression with initial weight and bias\n",
    "plot_model(\"Initial Model Plot\")"
   ]
  },
  {
   "cell_type": "code",
   "execution_count": 53,
   "metadata": {},
   "outputs": [],
   "source": [
    "#Initializing the loss function as Mean Squared Error\n",
    "loss_fun = nn.MSELoss()\n",
    "#Initializing the optimizer as Stochastic Gradient Descent with the model parameters and  learning rate 0.01\n",
    "optimizer = torch.optim.SGD(model.parameters(), lr = 0.01)"
   ]
  },
  {
   "cell_type": "code",
   "execution_count": 54,
   "metadata": {},
   "outputs": [
    {
     "name": "stdout",
     "output_type": "stream",
     "text": [
      "@epoch :  0  #Loss :  7281850880.0\n",
      "@epoch :  1  #Loss :  317270528.0\n",
      "@epoch :  2  #Loss :  140734944.0\n",
      "@epoch :  3  #Loss :  135580832.0\n",
      "@epoch :  4  #Loss :  134758304.0\n",
      "@epoch :  5  #Loss :  134049800.0\n",
      "@epoch :  6  #Loss :  133348824.0\n",
      "@epoch :  7  #Loss :  132652632.0\n",
      "@epoch :  8  #Loss :  131961072.0\n",
      "@epoch :  9  #Loss :  131274224.0\n",
      "@epoch :  10  #Loss :  130592000.0\n",
      "@epoch :  11  #Loss :  129914392.0\n",
      "@epoch :  12  #Loss :  129241336.0\n",
      "@epoch :  13  #Loss :  128572784.0\n",
      "@epoch :  14  #Loss :  127908784.0\n",
      "@epoch :  15  #Loss :  127249232.0\n",
      "@epoch :  16  #Loss :  126594160.0\n",
      "@epoch :  17  #Loss :  125943464.0\n",
      "@epoch :  18  #Loss :  125297232.0\n",
      "@epoch :  19  #Loss :  124655216.0\n",
      "@epoch :  20  #Loss :  124017624.0\n",
      "@epoch :  21  #Loss :  123384352.0\n",
      "@epoch :  22  #Loss :  122755272.0\n",
      "@epoch :  23  #Loss :  122130520.0\n",
      "@epoch :  24  #Loss :  121509912.0\n",
      "@epoch :  25  #Loss :  120893520.0\n",
      "@epoch :  26  #Loss :  120281256.0\n",
      "@epoch :  27  #Loss :  119673112.0\n",
      "@epoch :  28  #Loss :  119069056.0\n",
      "@epoch :  29  #Loss :  118469112.0\n",
      "@epoch :  30  #Loss :  117873232.0\n",
      "@epoch :  31  #Loss :  117281344.0\n",
      "@epoch :  32  #Loss :  116693432.0\n",
      "@epoch :  33  #Loss :  116109472.0\n",
      "@epoch :  34  #Loss :  115529496.0\n",
      "@epoch :  35  #Loss :  114953392.0\n",
      "@epoch :  36  #Loss :  114381200.0\n",
      "@epoch :  37  #Loss :  113812848.0\n",
      "@epoch :  38  #Loss :  113248312.0\n",
      "@epoch :  39  #Loss :  112687608.0\n",
      "@epoch :  40  #Loss :  112130664.0\n",
      "@epoch :  41  #Loss :  111577480.0\n",
      "@epoch :  42  #Loss :  111028040.0\n",
      "@epoch :  43  #Loss :  110482280.0\n",
      "@epoch :  44  #Loss :  109940208.0\n",
      "@epoch :  45  #Loss :  109401776.0\n",
      "@epoch :  46  #Loss :  108866976.0\n",
      "@epoch :  47  #Loss :  108335808.0\n",
      "@epoch :  48  #Loss :  107808208.0\n",
      "@epoch :  49  #Loss :  107284176.0\n",
      "@epoch :  50  #Loss :  106763656.0\n",
      "@epoch :  51  #Loss :  106246664.0\n",
      "@epoch :  52  #Loss :  105733112.0\n",
      "@epoch :  53  #Loss :  105223040.0\n",
      "@epoch :  54  #Loss :  104716440.0\n",
      "@epoch :  55  #Loss :  104213240.0\n",
      "@epoch :  56  #Loss :  103713440.0\n",
      "@epoch :  57  #Loss :  103216992.0\n",
      "@epoch :  58  #Loss :  102723888.0\n",
      "@epoch :  59  #Loss :  102234096.0\n",
      "@epoch :  60  #Loss :  101747632.0\n",
      "@epoch :  61  #Loss :  101264448.0\n",
      "@epoch :  62  #Loss :  100784520.0\n",
      "@epoch :  63  #Loss :  100307824.0\n",
      "@epoch :  64  #Loss :  99834312.0\n",
      "@epoch :  65  #Loss :  99364008.0\n",
      "@epoch :  66  #Loss :  98896896.0\n",
      "@epoch :  67  #Loss :  98432944.0\n",
      "@epoch :  68  #Loss :  97972096.0\n",
      "@epoch :  69  #Loss :  97514344.0\n",
      "@epoch :  70  #Loss :  97059664.0\n",
      "@epoch :  71  #Loss :  96608096.0\n",
      "@epoch :  72  #Loss :  96159528.0\n",
      "@epoch :  73  #Loss :  95714008.0\n",
      "@epoch :  74  #Loss :  95271496.0\n",
      "@epoch :  75  #Loss :  94831960.0\n",
      "@epoch :  76  #Loss :  94395384.0\n",
      "@epoch :  77  #Loss :  93961728.0\n",
      "@epoch :  78  #Loss :  93531056.0\n",
      "@epoch :  79  #Loss :  93103232.0\n",
      "@epoch :  80  #Loss :  92678288.0\n",
      "@epoch :  81  #Loss :  92256240.0\n",
      "@epoch :  82  #Loss :  91837032.0\n",
      "@epoch :  83  #Loss :  91420648.0\n",
      "@epoch :  84  #Loss :  91007048.0\n",
      "@epoch :  85  #Loss :  90596272.0\n",
      "@epoch :  86  #Loss :  90188248.0\n",
      "@epoch :  87  #Loss :  89782968.0\n",
      "@epoch :  88  #Loss :  89380424.0\n",
      "@epoch :  89  #Loss :  88980584.0\n",
      "@epoch :  90  #Loss :  88583464.0\n",
      "@epoch :  91  #Loss :  88189000.0\n",
      "@epoch :  92  #Loss :  87797224.0\n",
      "@epoch :  93  #Loss :  87408056.0\n",
      "@epoch :  94  #Loss :  87021504.0\n",
      "@epoch :  95  #Loss :  86637584.0\n",
      "@epoch :  96  #Loss :  86256256.0\n",
      "@epoch :  97  #Loss :  85877480.0\n",
      "@epoch :  98  #Loss :  85501264.0\n",
      "@epoch :  99  #Loss :  85127576.0\n"
     ]
    }
   ],
   "source": [
    "# Training the model\n",
    "epochs = 100\n",
    "losses = []\n",
    "for i in range(epochs):\n",
    "    y_pred = model.forward(X_train)\n",
    "    loss = loss_fun(y_pred, y_train)\n",
    "    print(\"@epoch : \", i, \" #Loss : \", loss.item())\n",
    "    losses.append(loss)\n",
    "    optimizer.zero_grad()\n",
    "    loss.backward()\n",
    "    optimizer.step()"
   ]
  },
  {
   "cell_type": "code",
   "execution_count": 55,
   "metadata": {},
   "outputs": [
    {
     "data": {
      "text/plain": [
       "[<matplotlib.lines.Line2D at 0x1f3a7613f28>]"
      ]
     },
     "execution_count": 55,
     "metadata": {},
     "output_type": "execute_result"
    },
    {
     "data": {
      "image/png": "[encoded data removed]",
      "text/plain": [
       "<Figure size 432x288 with 1 Axes>"
      ]
     },
     "metadata": {},
     "output_type": "display_data"
    }
   ],
   "source": [
    "#Visualizing the loss curve\n",
    "plt.plot(range(epochs), losses)"
   ]
  },
  {
   "cell_type": "code",
   "execution_count": 56,
   "metadata": {},
   "outputs": [
    {
     "data": {
      "image/png": "[encoded data removed]",
      "text/plain": [
       "<Figure size 432x288 with 1 Axes>"
      ]
     },
     "metadata": {},
     "output_type": "display_data"
    }
   ],
   "source": [
    "#Visualizing the trained regressor\n",
    "plot_model(\"Trained Model\")"
   ]
  },
  {
   "cell_type": "code",
   "execution_count": 57,
   "metadata": {},
   "outputs": [],
   "source": [
    "#Predicting for X_test\n",
    "y_pred_test = model.forward(X_test)"
   ]
  },
  {
   "cell_type": "code",
   "execution_count": 58,
   "metadata": {},
   "outputs": [
    {
     "name": "stdout",
     "output_type": "stream",
     "text": [
      "[119526.7421875, 86251.7734375, 77933.0390625, 33962.546875, 140917.796875, 38716.11328125]\n",
      "   Actual Observation  Predicted Salary\n",
      "0              114755     119526.742188\n",
      "1              100504      86251.773438\n",
      "2               74762      77933.039062\n",
      "3               45131      33962.546875\n",
      "4              129741     140917.796875\n",
      "5               51802      38716.113281\n"
     ]
    }
   ],
   "source": [
    "#Converting predictions from tensor objects into a list\n",
    "y_pred_test = [y_pred_test[x].item() for x in range(len(y_pred_test))]\n",
    "print(y_pred_test)\n",
    "# Comparing Actual and predicted values\n",
    "df = {}\n",
    "df['Actual Observation'] = y_test\n",
    "df['Predicted Salary'] = y_pred_test\n",
    "df = pd.DataFrame(df)\n",
    "print(df)"
   ]
  },
  {
   "cell_type": "code",
   "execution_count": 59,
   "metadata": {},
   "outputs": [
    {
     "data": {
      "text/plain": [
       "[119526.7421875,\n",
       " 86251.7734375,\n",
       " 77933.0390625,\n",
       " 33962.546875,\n",
       " 140917.796875,\n",
       " 38716.11328125]"
      ]
     },
     "execution_count": 59,
     "metadata": {},
     "output_type": "execute_result"
    }
   ],
   "source": [
    "y_pred_test"
   ]
  },
  {
   "cell_type": "code",
   "execution_count": 60,
   "metadata": {},
   "outputs": [
    {
     "data": {
      "text/plain": [
       "<matplotlib.axes._subplots.AxesSubplot at 0x1f3a13755f8>"
      ]
     },
     "execution_count": 60,
     "metadata": {},
     "output_type": "execute_result"
    },
    {
     "data": {
      "image/png": "[encoded data removed]",
      "text/plain": [
       "<Figure size 432x288 with 1 Axes>"
      ]
     },
     "metadata": {},
     "output_type": "display_data"
    }
   ],
   "source": [
    "#Visualizing Actual and predicted values\n",
    "df.plot()"
   ]
  },
  {
   "cell_type": "code",
   "execution_count": null,
   "metadata": {},
   "outputs": [],
   "source": []
  }
 ],
 "metadata": {
  "kernelspec": {
   "display_name": "Python 3",
   "language": "python",
   "name": "python3"
  },
  "language_info": {
   "codemirror_mode": {
    "name": "ipython",
    "version": 3
   },
   "file_extension": ".py",
   "mimetype": "text/x-python",
   "name": "python",
   "nbconvert_exporter": "python",
   "pygments_lexer": "ipython3",
   "version": "3.6.5"
  }
 },
 "nbformat": 4,
 "nbformat_minor": 2
}
